{
 "cells": [
  {
   "cell_type": "code",
   "execution_count": 2,
   "id": "90ac3838-befd-448e-ad40-5165095c414c",
   "metadata": {},
   "outputs": [],
   "source": [
    "import requests"
   ]
  },
  {
   "cell_type": "code",
   "execution_count": 4,
   "id": "8b511706-d992-4443-ac7b-60cb6e5c403f",
   "metadata": {},
   "outputs": [],
   "source": [
    "years = list(range(1991,2022))"
   ]
  },
  {
   "cell_type": "markdown",
   "id": "8fd23255-1bb2-4f90-8eae-70034ba37f86",
   "metadata": {},
   "source": [
    "Get html files to minimise requests to website"
   ]
  },
  {
   "cell_type": "code",
   "execution_count": 5,
   "id": "5f48ffd4-737a-4ba4-acd4-b8a92cf10872",
   "metadata": {},
   "outputs": [],
   "source": [
    "url_start = \"https://www.basketball-reference.com/awards/awards_{}.html\"\n",
    "\n",
    "for year in years:\n",
    "    url = url_start.format(year)\n",
    "    \n",
    "    data = requests.get(url)\n",
    "    \n",
    "    with open(\"mvp/{}.html\".format(year), \"w+\") as f:\n",
    "        f.write(data.text)"
   ]
  },
  {
   "cell_type": "markdown",
   "id": "6e4a9a69-ec65-4599-a0c5-f3dd519e6c41",
   "metadata": {},
   "source": [
    "Open html files instead of requesting access to website again"
   ]
  },
  {
   "cell_type": "code",
   "execution_count": 6,
   "id": "218ffafd-2366-44a6-a7ee-94028efd858e",
   "metadata": {},
   "outputs": [],
   "source": [
    "from bs4 import BeautifulSoup"
   ]
  },
  {
   "cell_type": "code",
   "execution_count": null,
   "id": "9a527cd4-b84f-4e31-9cf0-e40e7a1462ef",
   "metadata": {},
   "outputs": [],
   "source": []
  }
 ],
 "metadata": {
  "kernelspec": {
   "display_name": "Python 3 (ipykernel)",
   "language": "python",
   "name": "python3"
  },
  "language_info": {
   "codemirror_mode": {
    "name": "ipython",
    "version": 3
   },
   "file_extension": ".py",
   "mimetype": "text/x-python",
   "name": "python",
   "nbconvert_exporter": "python",
   "pygments_lexer": "ipython3",
   "version": "3.10.4"
  }
 },
 "nbformat": 4,
 "nbformat_minor": 5
}
